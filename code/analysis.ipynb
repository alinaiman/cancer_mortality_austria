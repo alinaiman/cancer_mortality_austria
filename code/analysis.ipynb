{
 "cells": [
  {
   "cell_type": "code",
   "execution_count": 1,
   "id": "907ae1b0",
   "metadata": {},
   "outputs": [],
   "source": [
    "import pandas as pd\n",
    "import matplotlib.pyplot as plt\n",
    "import seaborn as sns"
   ]
  },
  {
   "cell_type": "code",
   "execution_count": 2,
   "id": "efb6a97c",
   "metadata": {},
   "outputs": [],
   "source": [
    "raw_df = pd.read_csv(\"Cancer incidence.csv\", sep=';')"
   ]
  },
  {
   "cell_type": "code",
   "execution_count": 4,
   "id": "038d43a5",
   "metadata": {},
   "outputs": [
    {
     "data": {
      "application/vnd.microsoft.datawrangler.viewer.v0+json": {
       "columns": [
        {
         "name": "index",
         "rawType": "int64",
         "type": "integer"
        },
        {
         "name": "Federal provinces",
         "rawType": "object",
         "type": "string"
        },
        {
         "name": "Incidence men and women",
         "rawType": "int64",
         "type": "integer"
        },
        {
         "name": "Incidence men",
         "rawType": "int64",
         "type": "integer"
        },
        {
         "name": "Incidence women",
         "rawType": "int64",
         "type": "integer"
        },
        {
         "name": "Mortality men and women",
         "rawType": "int64",
         "type": "integer"
        },
        {
         "name": "Mortality men",
         "rawType": "int64",
         "type": "integer"
        },
        {
         "name": "Mortality women",
         "rawType": "int64",
         "type": "integer"
        }
       ],
       "ref": "f43c3583-f505-4027-9250-6c1f0983a2af",
       "rows": [
        [
         "0",
         "Austria",
         "46518",
         "24697",
         "21821",
         "20906",
         "11374",
         "9532"
        ],
        [
         "1",
         "Burgenland",
         "1747",
         "950",
         "797",
         "787",
         "464",
         "323"
        ],
        [
         "2",
         "Carinthia",
         "3827",
         "2101",
         "1726",
         "1512",
         "832",
         "680"
        ],
        [
         "3",
         "Lower Austria",
         "9517",
         "5191",
         "4326",
         "4426",
         "2485",
         "1941"
        ],
        [
         "4",
         "Upper Austria",
         "7961",
         "4347",
         "3614",
         "3403",
         "1866",
         "1537"
        ],
        [
         "5",
         "Salzburg",
         "2620",
         "1390",
         "1230",
         "1187",
         "629",
         "558"
        ],
        [
         "6",
         "Styria",
         "6963",
         "3734",
         "3229",
         "3244",
         "1752",
         "1492"
        ],
        [
         "7",
         "Tyrol",
         "3805",
         "2031",
         "1774",
         "1547",
         "804",
         "743"
        ],
        [
         "8",
         "Vorarlberg",
         "1942",
         "1033",
         "909",
         "775",
         "436",
         "339"
        ],
        [
         "9",
         "Vienna",
         "8136",
         "3920",
         "4216",
         "4025",
         "2106",
         "1919"
        ]
       ],
       "shape": {
        "columns": 7,
        "rows": 10
       }
      },
      "text/html": [
       "<div>\n",
       "<style scoped>\n",
       "    .dataframe tbody tr th:only-of-type {\n",
       "        vertical-align: middle;\n",
       "    }\n",
       "\n",
       "    .dataframe tbody tr th {\n",
       "        vertical-align: top;\n",
       "    }\n",
       "\n",
       "    .dataframe thead th {\n",
       "        text-align: right;\n",
       "    }\n",
       "</style>\n",
       "<table border=\"1\" class=\"dataframe\">\n",
       "  <thead>\n",
       "    <tr style=\"text-align: right;\">\n",
       "      <th></th>\n",
       "      <th>Federal provinces</th>\n",
       "      <th>Incidence men and women</th>\n",
       "      <th>Incidence men</th>\n",
       "      <th>Incidence women</th>\n",
       "      <th>Mortality men and women</th>\n",
       "      <th>Mortality men</th>\n",
       "      <th>Mortality women</th>\n",
       "    </tr>\n",
       "  </thead>\n",
       "  <tbody>\n",
       "    <tr>\n",
       "      <th>0</th>\n",
       "      <td>Austria</td>\n",
       "      <td>46518</td>\n",
       "      <td>24697</td>\n",
       "      <td>21821</td>\n",
       "      <td>20906</td>\n",
       "      <td>11374</td>\n",
       "      <td>9532</td>\n",
       "    </tr>\n",
       "    <tr>\n",
       "      <th>1</th>\n",
       "      <td>Burgenland</td>\n",
       "      <td>1747</td>\n",
       "      <td>950</td>\n",
       "      <td>797</td>\n",
       "      <td>787</td>\n",
       "      <td>464</td>\n",
       "      <td>323</td>\n",
       "    </tr>\n",
       "    <tr>\n",
       "      <th>2</th>\n",
       "      <td>Carinthia</td>\n",
       "      <td>3827</td>\n",
       "      <td>2101</td>\n",
       "      <td>1726</td>\n",
       "      <td>1512</td>\n",
       "      <td>832</td>\n",
       "      <td>680</td>\n",
       "    </tr>\n",
       "    <tr>\n",
       "      <th>3</th>\n",
       "      <td>Lower Austria</td>\n",
       "      <td>9517</td>\n",
       "      <td>5191</td>\n",
       "      <td>4326</td>\n",
       "      <td>4426</td>\n",
       "      <td>2485</td>\n",
       "      <td>1941</td>\n",
       "    </tr>\n",
       "    <tr>\n",
       "      <th>4</th>\n",
       "      <td>Upper Austria</td>\n",
       "      <td>7961</td>\n",
       "      <td>4347</td>\n",
       "      <td>3614</td>\n",
       "      <td>3403</td>\n",
       "      <td>1866</td>\n",
       "      <td>1537</td>\n",
       "    </tr>\n",
       "    <tr>\n",
       "      <th>5</th>\n",
       "      <td>Salzburg</td>\n",
       "      <td>2620</td>\n",
       "      <td>1390</td>\n",
       "      <td>1230</td>\n",
       "      <td>1187</td>\n",
       "      <td>629</td>\n",
       "      <td>558</td>\n",
       "    </tr>\n",
       "    <tr>\n",
       "      <th>6</th>\n",
       "      <td>Styria</td>\n",
       "      <td>6963</td>\n",
       "      <td>3734</td>\n",
       "      <td>3229</td>\n",
       "      <td>3244</td>\n",
       "      <td>1752</td>\n",
       "      <td>1492</td>\n",
       "    </tr>\n",
       "    <tr>\n",
       "      <th>7</th>\n",
       "      <td>Tyrol</td>\n",
       "      <td>3805</td>\n",
       "      <td>2031</td>\n",
       "      <td>1774</td>\n",
       "      <td>1547</td>\n",
       "      <td>804</td>\n",
       "      <td>743</td>\n",
       "    </tr>\n",
       "    <tr>\n",
       "      <th>8</th>\n",
       "      <td>Vorarlberg</td>\n",
       "      <td>1942</td>\n",
       "      <td>1033</td>\n",
       "      <td>909</td>\n",
       "      <td>775</td>\n",
       "      <td>436</td>\n",
       "      <td>339</td>\n",
       "    </tr>\n",
       "    <tr>\n",
       "      <th>9</th>\n",
       "      <td>Vienna</td>\n",
       "      <td>8136</td>\n",
       "      <td>3920</td>\n",
       "      <td>4216</td>\n",
       "      <td>4025</td>\n",
       "      <td>2106</td>\n",
       "      <td>1919</td>\n",
       "    </tr>\n",
       "  </tbody>\n",
       "</table>\n",
       "</div>"
      ],
      "text/plain": [
       "  Federal provinces  Incidence men and women  Incidence men  Incidence women  \\\n",
       "0           Austria                    46518          24697            21821   \n",
       "1        Burgenland                     1747            950              797   \n",
       "2         Carinthia                     3827           2101             1726   \n",
       "3     Lower Austria                     9517           5191             4326   \n",
       "4     Upper Austria                     7961           4347             3614   \n",
       "5          Salzburg                     2620           1390             1230   \n",
       "6            Styria                     6963           3734             3229   \n",
       "7             Tyrol                     3805           2031             1774   \n",
       "8        Vorarlberg                     1942           1033              909   \n",
       "9            Vienna                     8136           3920             4216   \n",
       "\n",
       "   Mortality men and women  Mortality men  Mortality women  \n",
       "0                    20906          11374             9532  \n",
       "1                      787            464              323  \n",
       "2                     1512            832              680  \n",
       "3                     4426           2485             1941  \n",
       "4                     3403           1866             1537  \n",
       "5                     1187            629              558  \n",
       "6                     3244           1752             1492  \n",
       "7                     1547            804              743  \n",
       "8                      775            436              339  \n",
       "9                     4025           2106             1919  "
      ]
     },
     "execution_count": 4,
     "metadata": {},
     "output_type": "execute_result"
    }
   ],
   "source": [
    "raw_df"
   ]
  },
  {
   "cell_type": "code",
   "execution_count": 5,
   "id": "dc39293b",
   "metadata": {},
   "outputs": [],
   "source": [
    "raw_df.columns = raw_df.columns.str.strip()"
   ]
  },
  {
   "cell_type": "code",
   "execution_count": 6,
   "id": "fddccd47",
   "metadata": {},
   "outputs": [
    {
     "name": "stdout",
     "output_type": "stream",
     "text": [
      "['Federal provinces', 'Incidence men and women', 'Incidence men', 'Incidence women', 'Mortality men and women', 'Mortality men', 'Mortality women']\n"
     ]
    }
   ],
   "source": [
    "print(raw_df.columns.tolist())"
   ]
  },
  {
   "cell_type": "code",
   "execution_count": 7,
   "id": "485b6b54",
   "metadata": {},
   "outputs": [],
   "source": [
    "columns_to_keep = ['Federal provinces', 'Mortality men', 'Mortality women']\n",
    "row_to_keep = ['Burgenland', 'Carinthia', 'Lower Austria', 'Upper Austria ', 'Salzburg', 'Styria', 'Tyrol', 'Vorarlberg','Vienna']"
   ]
  },
  {
   "cell_type": "code",
   "execution_count": 8,
   "id": "e18b0bae",
   "metadata": {},
   "outputs": [],
   "source": [
    "filtered_df = raw_df.loc[raw_df['Federal provinces'].isin(row_to_keep), columns_to_keep]\n"
   ]
  },
  {
   "cell_type": "code",
   "execution_count": 10,
   "id": "19533fb3",
   "metadata": {},
   "outputs": [
    {
     "name": "stdout",
     "output_type": "stream",
     "text": [
      "  Federal provinces  Mortality men  Mortality women\n",
      "1        Burgenland            464              323\n",
      "2         Carinthia            832              680\n",
      "3     Lower Austria           2485             1941\n",
      "5          Salzburg            629              558\n",
      "6            Styria           1752             1492\n",
      "7             Tyrol            804              743\n",
      "8        Vorarlberg            436              339\n",
      "9            Vienna           2106             1919\n"
     ]
    }
   ],
   "source": [
    "print(filtered_df)"
   ]
  },
  {
   "cell_type": "code",
   "execution_count": 11,
   "id": "9b765a7c",
   "metadata": {},
   "outputs": [
    {
     "data": {
      "image/png": "[encoded data removed]",
      "text/plain": [
       "<Figure size 800x500 with 1 Axes>"
      ]
     },
     "metadata": {},
     "output_type": "display_data"
    }
   ],
   "source": [
    "filtered_df.plot(x=\"Federal provinces\", y=[\"Mortality men\", \"Mortality women\"], kind=\"bar\",figsize=(8,5),title=\"Mortality rate among male and female in Vienna, 2023\");"
   ]
  },
  {
   "cell_type": "code",
   "execution_count": 12,
   "id": "bb6412f1",
   "metadata": {},
   "outputs": [
    {
     "data": {
      "application/vnd.microsoft.datawrangler.viewer.v0+json": {
       "columns": [
        {
         "name": "index",
         "rawType": "int64",
         "type": "integer"
        },
        {
         "name": "Federal provinces",
         "rawType": "object",
         "type": "string"
        },
        {
         "name": "Incidence men and women",
         "rawType": "int64",
         "type": "integer"
        },
        {
         "name": "Incidence men",
         "rawType": "int64",
         "type": "integer"
        },
        {
         "name": "Incidence women",
         "rawType": "int64",
         "type": "integer"
        },
        {
         "name": "Mortality men and women",
         "rawType": "int64",
         "type": "integer"
        },
        {
         "name": "Mortality men",
         "rawType": "int64",
         "type": "integer"
        },
        {
         "name": "Mortality women",
         "rawType": "int64",
         "type": "integer"
        }
       ],
       "ref": "4127f2d9-9dc2-44b6-8300-0f3790b580de",
       "rows": [
        [
         "0",
         "Austria",
         "46518",
         "24697",
         "21821",
         "20906",
         "11374",
         "9532"
        ],
        [
         "1",
         "Burgenland",
         "1747",
         "950",
         "797",
         "787",
         "464",
         "323"
        ],
        [
         "2",
         "Carinthia",
         "3827",
         "2101",
         "1726",
         "1512",
         "832",
         "680"
        ],
        [
         "3",
         "Lower Austria",
         "9517",
         "5191",
         "4326",
         "4426",
         "2485",
         "1941"
        ],
        [
         "4",
         "Upper Austria",
         "7961",
         "4347",
         "3614",
         "3403",
         "1866",
         "1537"
        ],
        [
         "5",
         "Salzburg",
         "2620",
         "1390",
         "1230",
         "1187",
         "629",
         "558"
        ],
        [
         "6",
         "Styria",
         "6963",
         "3734",
         "3229",
         "3244",
         "1752",
         "1492"
        ],
        [
         "7",
         "Tyrol",
         "3805",
         "2031",
         "1774",
         "1547",
         "804",
         "743"
        ],
        [
         "8",
         "Vorarlberg",
         "1942",
         "1033",
         "909",
         "775",
         "436",
         "339"
        ],
        [
         "9",
         "Vienna",
         "8136",
         "3920",
         "4216",
         "4025",
         "2106",
         "1919"
        ]
       ],
       "shape": {
        "columns": 7,
        "rows": 10
       }
      },
      "text/html": [
       "<div>\n",
       "<style scoped>\n",
       "    .dataframe tbody tr th:only-of-type {\n",
       "        vertical-align: middle;\n",
       "    }\n",
       "\n",
       "    .dataframe tbody tr th {\n",
       "        vertical-align: top;\n",
       "    }\n",
       "\n",
       "    .dataframe thead th {\n",
       "        text-align: right;\n",
       "    }\n",
       "</style>\n",
       "<table border=\"1\" class=\"dataframe\">\n",
       "  <thead>\n",
       "    <tr style=\"text-align: right;\">\n",
       "      <th></th>\n",
       "      <th>Federal provinces</th>\n",
       "      <th>Incidence men and women</th>\n",
       "      <th>Incidence men</th>\n",
       "      <th>Incidence women</th>\n",
       "      <th>Mortality men and women</th>\n",
       "      <th>Mortality men</th>\n",
       "      <th>Mortality women</th>\n",
       "    </tr>\n",
       "  </thead>\n",
       "  <tbody>\n",
       "    <tr>\n",
       "      <th>0</th>\n",
       "      <td>Austria</td>\n",
       "      <td>46518</td>\n",
       "      <td>24697</td>\n",
       "      <td>21821</td>\n",
       "      <td>20906</td>\n",
       "      <td>11374</td>\n",
       "      <td>9532</td>\n",
       "    </tr>\n",
       "    <tr>\n",
       "      <th>1</th>\n",
       "      <td>Burgenland</td>\n",
       "      <td>1747</td>\n",
       "      <td>950</td>\n",
       "      <td>797</td>\n",
       "      <td>787</td>\n",
       "      <td>464</td>\n",
       "      <td>323</td>\n",
       "    </tr>\n",
       "    <tr>\n",
       "      <th>2</th>\n",
       "      <td>Carinthia</td>\n",
       "      <td>3827</td>\n",
       "      <td>2101</td>\n",
       "      <td>1726</td>\n",
       "      <td>1512</td>\n",
       "      <td>832</td>\n",
       "      <td>680</td>\n",
       "    </tr>\n",
       "    <tr>\n",
       "      <th>3</th>\n",
       "      <td>Lower Austria</td>\n",
       "      <td>9517</td>\n",
       "      <td>5191</td>\n",
       "      <td>4326</td>\n",
       "      <td>4426</td>\n",
       "      <td>2485</td>\n",
       "      <td>1941</td>\n",
       "    </tr>\n",
       "    <tr>\n",
       "      <th>4</th>\n",
       "      <td>Upper Austria</td>\n",
       "      <td>7961</td>\n",
       "      <td>4347</td>\n",
       "      <td>3614</td>\n",
       "      <td>3403</td>\n",
       "      <td>1866</td>\n",
       "      <td>1537</td>\n",
       "    </tr>\n",
       "    <tr>\n",
       "      <th>5</th>\n",
       "      <td>Salzburg</td>\n",
       "      <td>2620</td>\n",
       "      <td>1390</td>\n",
       "      <td>1230</td>\n",
       "      <td>1187</td>\n",
       "      <td>629</td>\n",
       "      <td>558</td>\n",
       "    </tr>\n",
       "    <tr>\n",
       "      <th>6</th>\n",
       "      <td>Styria</td>\n",
       "      <td>6963</td>\n",
       "      <td>3734</td>\n",
       "      <td>3229</td>\n",
       "      <td>3244</td>\n",
       "      <td>1752</td>\n",
       "      <td>1492</td>\n",
       "    </tr>\n",
       "    <tr>\n",
       "      <th>7</th>\n",
       "      <td>Tyrol</td>\n",
       "      <td>3805</td>\n",
       "      <td>2031</td>\n",
       "      <td>1774</td>\n",
       "      <td>1547</td>\n",
       "      <td>804</td>\n",
       "      <td>743</td>\n",
       "    </tr>\n",
       "    <tr>\n",
       "      <th>8</th>\n",
       "      <td>Vorarlberg</td>\n",
       "      <td>1942</td>\n",
       "      <td>1033</td>\n",
       "      <td>909</td>\n",
       "      <td>775</td>\n",
       "      <td>436</td>\n",
       "      <td>339</td>\n",
       "    </tr>\n",
       "    <tr>\n",
       "      <th>9</th>\n",
       "      <td>Vienna</td>\n",
       "      <td>8136</td>\n",
       "      <td>3920</td>\n",
       "      <td>4216</td>\n",
       "      <td>4025</td>\n",
       "      <td>2106</td>\n",
       "      <td>1919</td>\n",
       "    </tr>\n",
       "  </tbody>\n",
       "</table>\n",
       "</div>"
      ],
      "text/plain": [
       "  Federal provinces  Incidence men and women  Incidence men  Incidence women  \\\n",
       "0           Austria                    46518          24697            21821   \n",
       "1        Burgenland                     1747            950              797   \n",
       "2         Carinthia                     3827           2101             1726   \n",
       "3     Lower Austria                     9517           5191             4326   \n",
       "4     Upper Austria                     7961           4347             3614   \n",
       "5          Salzburg                     2620           1390             1230   \n",
       "6            Styria                     6963           3734             3229   \n",
       "7             Tyrol                     3805           2031             1774   \n",
       "8        Vorarlberg                     1942           1033              909   \n",
       "9            Vienna                     8136           3920             4216   \n",
       "\n",
       "   Mortality men and women  Mortality men  Mortality women  \n",
       "0                    20906          11374             9532  \n",
       "1                      787            464              323  \n",
       "2                     1512            832              680  \n",
       "3                     4426           2485             1941  \n",
       "4                     3403           1866             1537  \n",
       "5                     1187            629              558  \n",
       "6                     3244           1752             1492  \n",
       "7                     1547            804              743  \n",
       "8                      775            436              339  \n",
       "9                     4025           2106             1919  "
      ]
     },
     "execution_count": 12,
     "metadata": {},
     "output_type": "execute_result"
    }
   ],
   "source": [
    "raw_df"
   ]
  },
  {
   "cell_type": "code",
   "execution_count": 13,
   "id": "9322dc73",
   "metadata": {},
   "outputs": [],
   "source": [
    "columns_to_keep = ['Federal provinces', 'Incidence men and women', 'Mortality men and women']\n",
    "row_to_keep = ['Burgenland', 'Carinthia', 'Lower Austria', 'Upper Austria ', 'Salzburg', 'Styria', 'Tyrol', 'Vorarlberg','Vienna']"
   ]
  },
  {
   "cell_type": "code",
   "execution_count": 14,
   "id": "b1a80f41",
   "metadata": {},
   "outputs": [],
   "source": [
    "filtered_df = raw_df.loc[raw_df['Federal provinces'].isin(row_to_keep), columns_to_keep]"
   ]
  },
  {
   "cell_type": "code",
   "execution_count": 15,
   "id": "c3c79d42",
   "metadata": {},
   "outputs": [
    {
     "name": "stdout",
     "output_type": "stream",
     "text": [
      "  Federal provinces  Incidence men and women  Mortality men and women\n",
      "1        Burgenland                     1747                      787\n",
      "2         Carinthia                     3827                     1512\n",
      "3     Lower Austria                     9517                     4426\n",
      "5          Salzburg                     2620                     1187\n",
      "6            Styria                     6963                     3244\n",
      "7             Tyrol                     3805                     1547\n",
      "8        Vorarlberg                     1942                      775\n",
      "9            Vienna                     8136                     4025\n"
     ]
    }
   ],
   "source": [
    "print(filtered_df)"
   ]
  },
  {
   "cell_type": "code",
   "execution_count": 17,
   "id": "87cfb08f",
   "metadata": {},
   "outputs": [
    {
     "data": {
      "image/png": "[encoded data removed]",
      "text/plain": [
       "<Figure size 800x500 with 1 Axes>"
      ]
     },
     "metadata": {},
     "output_type": "display_data"
    }
   ],
   "source": [
    "filtered_df.plot(x=\"Federal provinces\", y=[\"Incidence men and women\", \"Mortality men and women\"], kind=\"bar\",figsize=(8,5),title=\"Incidence Vs Mortality from cancer in Vienna, 2023\");"
   ]
  },
  {
   "cell_type": "markdown",
   "id": "e24de3ef",
   "metadata": {},
   "source": [
    "## Key Observations\n",
    "\n",
    "- **Men have higher mortality than women** in all provinces.\n",
    "  - The difference is especially large in bigger regions: **Lower Austria** (2485 vs 1941) and **Vienna** (2106 vs 1919).\n",
    "  - In smaller provinces (Burgenland, Vorarlberg) the difference is smaller but still present.\n",
    "\n",
    "- **Regional disparities are noticeable**:\n",
    "  - Highest male mortality: **Lower Austria (2485)** and **Vienna (2106)**.\n",
    "  - Lowest male mortality: **Vorarlberg (436)** and **Burgenland (464)**.\n",
    "  - Female mortality follows a similar pattern: highest in **Lower Austria (1941)** and **Vienna (1919)**, lowest in **Vorarlberg (339)** and **Burgenland (323)**.\n",
    "\n",
    "- **The male-to-female ratio is roughly consistent across provinces**:\n",
    "  - On average, men die ~30% more than women.\n",
    "  - In some provinces (Tyrol, Salzburg) the difference is smaller (~8–10%), while in larger provinces (Lower Austria, Vienna) it is higher (~20–25%).\n",
    "\n",
    "- **Incidence VS Mortality**:\n",
    "  - There is a strong positive relationship between incidence and mortality — regions with more diagnosed cases also tend to have higher death counts.\n",
    "  - The mortality-to-incidence ratio is roughly consistent across provinces (around 40–45%), suggesting similar healthcare outcomes throughout Austria.\n",
    "---"
   ]
  }
 ],
 "metadata": {
  "kernelspec": {
   "display_name": "base",
   "language": "python",
   "name": "python3"
  },
  "language_info": {
   "codemirror_mode": {
    "name": "ipython",
    "version": 3
   },
   "file_extension": ".py",
   "mimetype": "text/x-python",
   "name": "python",
   "nbconvert_exporter": "python",
   "pygments_lexer": "ipython3",
   "version": "3.13.7"
  }
 },
 "nbformat": 4,
 "nbformat_minor": 5
}
